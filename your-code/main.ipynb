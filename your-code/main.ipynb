{
 "cells": [
  {
   "cell_type": "markdown",
   "metadata": {},
   "source": [
    "# Working with RSS Feeds Lab\n",
    "\n",
    "Complete the following set of exercises to solidify your knowledge of parsing RSS feeds and extracting information from them."
   ]
  },
  {
   "cell_type": "code",
   "execution_count": 1,
   "metadata": {},
   "outputs": [],
   "source": [
    "import feedparser"
   ]
  },
  {
   "cell_type": "markdown",
   "metadata": {},
   "source": [
    "### 1. Use feedparser to parse the following RSS feed URL."
   ]
  },
  {
   "cell_type": "code",
   "execution_count": 2,
   "metadata": {},
   "outputs": [],
   "source": [
    "url = 'http://feeds.feedburner.com/oreilly/radar/atom'"
   ]
  },
  {
   "cell_type": "code",
   "execution_count": 3,
   "metadata": {},
   "outputs": [],
   "source": [
    "rss = feedparser.parse(url)"
   ]
  },
  {
   "cell_type": "markdown",
   "metadata": {},
   "source": [
    "### 2. Obtain a list of components (keys) that are available for this feed."
   ]
  },
  {
   "cell_type": "code",
   "execution_count": 4,
   "metadata": {},
   "outputs": [
    {
     "data": {
      "text/plain": [
       "dict_keys(['feed', 'entries', 'bozo', 'headers', 'etag', 'updated', 'updated_parsed', 'href', 'status', 'encoding', 'version', 'namespaces'])"
      ]
     },
     "execution_count": 4,
     "metadata": {},
     "output_type": "execute_result"
    }
   ],
   "source": [
    "rss.keys()"
   ]
  },
  {
   "cell_type": "markdown",
   "metadata": {},
   "source": [
    "### 3. Obtain a list of components (keys) that are available for the *feed* component of this RSS feed."
   ]
  },
  {
   "cell_type": "code",
   "execution_count": 5,
   "metadata": {},
   "outputs": [
    {
     "data": {
      "text/plain": [
       "dict_keys(['title', 'title_detail', 'links', 'link', 'subtitle', 'subtitle_detail', 'updated', 'updated_parsed', 'language', 'sy_updateperiod', 'sy_updatefrequency', 'generator_detail', 'generator', 'feedburner_info', 'geo_lat', 'geo_long', 'feedburner_emailserviceid', 'feedburner_feedburnerhostname'])"
      ]
     },
     "execution_count": 5,
     "metadata": {},
     "output_type": "execute_result"
    }
   ],
   "source": [
    "rss['feed'].keys()"
   ]
  },
  {
   "cell_type": "markdown",
   "metadata": {},
   "source": [
    "### 4. Extract and print the feed title, subtitle, author, and link."
   ]
  },
  {
   "cell_type": "code",
   "execution_count": 6,
   "metadata": {},
   "outputs": [
    {
     "name": "stdout",
     "output_type": "stream",
     "text": [
      "Radar\n",
      "Now, next, and beyond: Tracking need-to-know trends at the intersection of business and technology\n",
      "https://www.oreilly.com/radar\n"
     ]
    }
   ],
   "source": [
    "#Metodo 1\n",
    "print(rss['feed']['title'])\n",
    "print(rss['feed']['subtitle'])\n",
    "#No hay author\n",
    "#print(rss['feed']['authors'])\n",
    "print(rss['feed']['link'])"
   ]
  },
  {
   "cell_type": "code",
   "execution_count": 7,
   "metadata": {},
   "outputs": [
    {
     "name": "stdout",
     "output_type": "stream",
     "text": [
      "Radar\n",
      "Now, next, and beyond: Tracking need-to-know trends at the intersection of business and technology\n",
      "https://www.oreilly.com/radar\n"
     ]
    }
   ],
   "source": [
    "#Metodo 2\n",
    "print(rss.feed.title)\n",
    "print(rss.feed.subtitle)\n",
    "#No hay author\n",
    "#print(rss.feed.author)\n",
    "print(rss.feed.link)"
   ]
  },
  {
   "cell_type": "markdown",
   "metadata": {},
   "source": [
    "### 5. Count the number of entries that are contained in this RSS feed."
   ]
  },
  {
   "cell_type": "code",
   "execution_count": 8,
   "metadata": {},
   "outputs": [
    {
     "name": "stdout",
     "output_type": "stream",
     "text": [
      "There are 60 entries in this RSS feed\n"
     ]
    }
   ],
   "source": [
    "#Vemos cuantas entradas son con un len()\n",
    "print(f'There are {len(rss.entries)} entries in this RSS feed')"
   ]
  },
  {
   "cell_type": "markdown",
   "metadata": {},
   "source": [
    "### 6. Obtain a list of components (keys) available for an entry.\n",
    "\n",
    "*Hint: Remember to index first before requesting the keys*"
   ]
  },
  {
   "cell_type": "code",
   "execution_count": 9,
   "metadata": {},
   "outputs": [
    {
     "data": {
      "text/plain": [
       "dict_keys(['title', 'title_detail', 'links', 'link', 'comments', 'published', 'published_parsed', 'authors', 'author', 'author_detail', 'tags', 'id', 'guidislink', 'summary', 'summary_detail', 'content', 'wfw_commentrss', 'slash_comments', 'feedburner_origlink'])"
      ]
     },
     "execution_count": 9,
     "metadata": {},
     "output_type": "execute_result"
    }
   ],
   "source": [
    "#seleccionamos el primer elemento y vemos sus keys\n",
    "rss.entries[0].keys()"
   ]
  },
  {
   "cell_type": "markdown",
   "metadata": {},
   "source": [
    "### 7. Extract a list of entry titles."
   ]
  },
  {
   "cell_type": "code",
   "execution_count": 10,
   "metadata": {},
   "outputs": [
    {
     "data": {
      "text/plain": [
       "['Four short links: 13 Nov 2020',\n",
       " 'Multi-Paradigm Languages',\n",
       " 'Four short links: 10 November 2020',\n",
       " 'Four short links: 6 Nov 2020',\n",
       " 'Four short links: 4 Nov 2020',\n",
       " 'Radar trends to watch: November 2020']"
      ]
     },
     "execution_count": 10,
     "metadata": {},
     "output_type": "execute_result"
    }
   ],
   "source": [
    "#List comprehension que extrae el titulo para cada entry\n",
    "titles_list = [entry.title for entry in rss.entries]\n",
    "#Vemos los primeros cinco\n",
    "titles_list[0:6]"
   ]
  },
  {
   "cell_type": "markdown",
   "metadata": {},
   "source": [
    "### 8. Calculate the percentage of \"Four short links\" entry titles."
   ]
  },
  {
   "cell_type": "code",
   "execution_count": 11,
   "metadata": {},
   "outputs": [
    {
     "name": "stdout",
     "output_type": "stream",
     "text": [
      "66.67% of the entries are about \"Four short links\"\n"
     ]
    }
   ],
   "source": [
    "#Calculamos el porcentaje:\n",
    "#el primer list comprehension regresa True o 1 cuando se cumple la condicion, la suma da el total de \"Four...\"\n",
    "#len da el total de titulos\n",
    "percentage = sum('Four short links'in title for title in titles_list)/len(titles_list)*100\n",
    "print(f'{round(percentage,2)}% of the entries are about \"Four short links\"')"
   ]
  },
  {
   "cell_type": "markdown",
   "metadata": {},
   "source": [
    "### 9. Create a Pandas data frame from the feed's entries."
   ]
  },
  {
   "cell_type": "code",
   "execution_count": 12,
   "metadata": {},
   "outputs": [],
   "source": [
    "import pandas as pd"
   ]
  },
  {
   "cell_type": "code",
   "execution_count": 13,
   "metadata": {},
   "outputs": [
    {
     "data": {
      "text/html": [
       "<div>\n",
       "<style scoped>\n",
       "    .dataframe tbody tr th:only-of-type {\n",
       "        vertical-align: middle;\n",
       "    }\n",
       "\n",
       "    .dataframe tbody tr th {\n",
       "        vertical-align: top;\n",
       "    }\n",
       "\n",
       "    .dataframe thead th {\n",
       "        text-align: right;\n",
       "    }\n",
       "</style>\n",
       "<table border=\"1\" class=\"dataframe\">\n",
       "  <thead>\n",
       "    <tr style=\"text-align: right;\">\n",
       "      <th></th>\n",
       "      <th>title</th>\n",
       "      <th>title_detail</th>\n",
       "      <th>links</th>\n",
       "      <th>link</th>\n",
       "      <th>comments</th>\n",
       "      <th>published</th>\n",
       "      <th>published_parsed</th>\n",
       "      <th>authors</th>\n",
       "      <th>author</th>\n",
       "      <th>author_detail</th>\n",
       "      <th>tags</th>\n",
       "      <th>id</th>\n",
       "      <th>guidislink</th>\n",
       "      <th>summary</th>\n",
       "      <th>summary_detail</th>\n",
       "      <th>content</th>\n",
       "      <th>wfw_commentrss</th>\n",
       "      <th>slash_comments</th>\n",
       "      <th>feedburner_origlink</th>\n",
       "    </tr>\n",
       "  </thead>\n",
       "  <tbody>\n",
       "    <tr>\n",
       "      <th>0</th>\n",
       "      <td>Four short links: 13 Nov 2020</td>\n",
       "      <td>{'type': 'text/plain', 'language': None, 'base...</td>\n",
       "      <td>[{'rel': 'alternate', 'type': 'text/html', 'hr...</td>\n",
       "      <td>http://feedproxy.google.com/~r/oreilly/radar/a...</td>\n",
       "      <td>https://www.oreilly.com/radar/four-short-links...</td>\n",
       "      <td>Fri, 13 Nov 2020 12:20:52 +0000</td>\n",
       "      <td>(2020, 11, 13, 12, 20, 52, 4, 318, 0)</td>\n",
       "      <td>[{'name': 'Nat Torkington'}]</td>\n",
       "      <td>Nat Torkington</td>\n",
       "      <td>{'name': 'Nat Torkington'}</td>\n",
       "      <td>[{'term': 'Four Short Links', 'scheme': None, ...</td>\n",
       "      <td>https://www.oreilly.com/radar/?p=13409</td>\n",
       "      <td>False</td>\n",
       "      <td>Advanced System on a Chip Lecture Notes (2016)...</td>\n",
       "      <td>{'type': 'text/html', 'language': None, 'base'...</td>\n",
       "      <td>[{'type': 'text/html', 'language': None, 'base...</td>\n",
       "      <td>https://www.oreilly.com/radar/four-short-links...</td>\n",
       "      <td>0</td>\n",
       "      <td>https://www.oreilly.com/radar/four-short-links...</td>\n",
       "    </tr>\n",
       "    <tr>\n",
       "      <th>1</th>\n",
       "      <td>Multi-Paradigm Languages</td>\n",
       "      <td>{'type': 'text/plain', 'language': None, 'base...</td>\n",
       "      <td>[{'rel': 'alternate', 'type': 'text/html', 'hr...</td>\n",
       "      <td>http://feedproxy.google.com/~r/oreilly/radar/a...</td>\n",
       "      <td>https://www.oreilly.com/radar/multi-paradigm-l...</td>\n",
       "      <td>Tue, 10 Nov 2020 13:29:21 +0000</td>\n",
       "      <td>(2020, 11, 10, 13, 29, 21, 1, 315, 0)</td>\n",
       "      <td>[{'name': 'Mike Loukides'}]</td>\n",
       "      <td>Mike Loukides</td>\n",
       "      <td>{'name': 'Mike Loukides'}</td>\n",
       "      <td>[{'term': 'Software Engineering', 'scheme': No...</td>\n",
       "      <td>https://www.oreilly.com/radar/?p=13406</td>\n",
       "      <td>False</td>\n",
       "      <td>The programming world used to be split into fu...</td>\n",
       "      <td>{'type': 'text/html', 'language': None, 'base'...</td>\n",
       "      <td>[{'type': 'text/html', 'language': None, 'base...</td>\n",
       "      <td>https://www.oreilly.com/radar/multi-paradigm-l...</td>\n",
       "      <td>0</td>\n",
       "      <td>https://www.oreilly.com/radar/multi-paradigm-l...</td>\n",
       "    </tr>\n",
       "    <tr>\n",
       "      <th>2</th>\n",
       "      <td>Four short links: 10 November 2020</td>\n",
       "      <td>{'type': 'text/plain', 'language': None, 'base...</td>\n",
       "      <td>[{'rel': 'alternate', 'type': 'text/html', 'hr...</td>\n",
       "      <td>http://feedproxy.google.com/~r/oreilly/radar/a...</td>\n",
       "      <td>https://www.oreilly.com/radar/four-short-links...</td>\n",
       "      <td>Tue, 10 Nov 2020 12:13:23 +0000</td>\n",
       "      <td>(2020, 11, 10, 12, 13, 23, 1, 315, 0)</td>\n",
       "      <td>[{'name': 'Nat Torkington'}]</td>\n",
       "      <td>Nat Torkington</td>\n",
       "      <td>{'name': 'Nat Torkington'}</td>\n",
       "      <td>[{'term': 'Four Short Links', 'scheme': None, ...</td>\n",
       "      <td>https://www.oreilly.com/radar/?p=13404</td>\n",
       "      <td>False</td>\n",
       "      <td>Hypothesis as Liability &amp;#8212; Would the ment...</td>\n",
       "      <td>{'type': 'text/html', 'language': None, 'base'...</td>\n",
       "      <td>[{'type': 'text/html', 'language': None, 'base...</td>\n",
       "      <td>https://www.oreilly.com/radar/four-short-links...</td>\n",
       "      <td>0</td>\n",
       "      <td>https://www.oreilly.com/radar/four-short-links...</td>\n",
       "    </tr>\n",
       "    <tr>\n",
       "      <th>3</th>\n",
       "      <td>Four short links: 6 Nov 2020</td>\n",
       "      <td>{'type': 'text/plain', 'language': None, 'base...</td>\n",
       "      <td>[{'rel': 'alternate', 'type': 'text/html', 'hr...</td>\n",
       "      <td>http://feedproxy.google.com/~r/oreilly/radar/a...</td>\n",
       "      <td>https://www.oreilly.com/radar/four-short-links...</td>\n",
       "      <td>Fri, 06 Nov 2020 11:59:34 +0000</td>\n",
       "      <td>(2020, 11, 6, 11, 59, 34, 4, 311, 0)</td>\n",
       "      <td>[{'name': 'Nat Torkington'}]</td>\n",
       "      <td>Nat Torkington</td>\n",
       "      <td>{'name': 'Nat Torkington'}</td>\n",
       "      <td>[{'term': 'Four Short Links', 'scheme': None, ...</td>\n",
       "      <td>https://www.oreilly.com/radar/?p=13399</td>\n",
       "      <td>False</td>\n",
       "      <td>Dealing with Security Holes in Chips &amp;#8212; s...</td>\n",
       "      <td>{'type': 'text/html', 'language': None, 'base'...</td>\n",
       "      <td>[{'type': 'text/html', 'language': None, 'base...</td>\n",
       "      <td>https://www.oreilly.com/radar/four-short-links...</td>\n",
       "      <td>0</td>\n",
       "      <td>https://www.oreilly.com/radar/four-short-links...</td>\n",
       "    </tr>\n",
       "    <tr>\n",
       "      <th>4</th>\n",
       "      <td>Four short links: 4 Nov 2020</td>\n",
       "      <td>{'type': 'text/plain', 'language': None, 'base...</td>\n",
       "      <td>[{'rel': 'alternate', 'type': 'text/html', 'hr...</td>\n",
       "      <td>http://feedproxy.google.com/~r/oreilly/radar/a...</td>\n",
       "      <td>https://www.oreilly.com/radar/four-short-links...</td>\n",
       "      <td>Wed, 04 Nov 2020 11:46:23 +0000</td>\n",
       "      <td>(2020, 11, 4, 11, 46, 23, 2, 309, 0)</td>\n",
       "      <td>[{'name': 'Nat Torkington'}]</td>\n",
       "      <td>Nat Torkington</td>\n",
       "      <td>{'name': 'Nat Torkington'}</td>\n",
       "      <td>[{'term': 'Four Short Links', 'scheme': None, ...</td>\n",
       "      <td>https://www.oreilly.com/radar/?p=13396</td>\n",
       "      <td>False</td>\n",
       "      <td>The AI Who Mistook a Bald Head for a Football ...</td>\n",
       "      <td>{'type': 'text/html', 'language': None, 'base'...</td>\n",
       "      <td>[{'type': 'text/html', 'language': None, 'base...</td>\n",
       "      <td>https://www.oreilly.com/radar/four-short-links...</td>\n",
       "      <td>0</td>\n",
       "      <td>https://www.oreilly.com/radar/four-short-links...</td>\n",
       "    </tr>\n",
       "  </tbody>\n",
       "</table>\n",
       "</div>"
      ],
      "text/plain": [
       "                                title  \\\n",
       "0       Four short links: 13 Nov 2020   \n",
       "1            Multi-Paradigm Languages   \n",
       "2  Four short links: 10 November 2020   \n",
       "3        Four short links: 6 Nov 2020   \n",
       "4        Four short links: 4 Nov 2020   \n",
       "\n",
       "                                        title_detail  \\\n",
       "0  {'type': 'text/plain', 'language': None, 'base...   \n",
       "1  {'type': 'text/plain', 'language': None, 'base...   \n",
       "2  {'type': 'text/plain', 'language': None, 'base...   \n",
       "3  {'type': 'text/plain', 'language': None, 'base...   \n",
       "4  {'type': 'text/plain', 'language': None, 'base...   \n",
       "\n",
       "                                               links  \\\n",
       "0  [{'rel': 'alternate', 'type': 'text/html', 'hr...   \n",
       "1  [{'rel': 'alternate', 'type': 'text/html', 'hr...   \n",
       "2  [{'rel': 'alternate', 'type': 'text/html', 'hr...   \n",
       "3  [{'rel': 'alternate', 'type': 'text/html', 'hr...   \n",
       "4  [{'rel': 'alternate', 'type': 'text/html', 'hr...   \n",
       "\n",
       "                                                link  \\\n",
       "0  http://feedproxy.google.com/~r/oreilly/radar/a...   \n",
       "1  http://feedproxy.google.com/~r/oreilly/radar/a...   \n",
       "2  http://feedproxy.google.com/~r/oreilly/radar/a...   \n",
       "3  http://feedproxy.google.com/~r/oreilly/radar/a...   \n",
       "4  http://feedproxy.google.com/~r/oreilly/radar/a...   \n",
       "\n",
       "                                            comments  \\\n",
       "0  https://www.oreilly.com/radar/four-short-links...   \n",
       "1  https://www.oreilly.com/radar/multi-paradigm-l...   \n",
       "2  https://www.oreilly.com/radar/four-short-links...   \n",
       "3  https://www.oreilly.com/radar/four-short-links...   \n",
       "4  https://www.oreilly.com/radar/four-short-links...   \n",
       "\n",
       "                         published                       published_parsed  \\\n",
       "0  Fri, 13 Nov 2020 12:20:52 +0000  (2020, 11, 13, 12, 20, 52, 4, 318, 0)   \n",
       "1  Tue, 10 Nov 2020 13:29:21 +0000  (2020, 11, 10, 13, 29, 21, 1, 315, 0)   \n",
       "2  Tue, 10 Nov 2020 12:13:23 +0000  (2020, 11, 10, 12, 13, 23, 1, 315, 0)   \n",
       "3  Fri, 06 Nov 2020 11:59:34 +0000   (2020, 11, 6, 11, 59, 34, 4, 311, 0)   \n",
       "4  Wed, 04 Nov 2020 11:46:23 +0000   (2020, 11, 4, 11, 46, 23, 2, 309, 0)   \n",
       "\n",
       "                        authors          author               author_detail  \\\n",
       "0  [{'name': 'Nat Torkington'}]  Nat Torkington  {'name': 'Nat Torkington'}   \n",
       "1   [{'name': 'Mike Loukides'}]   Mike Loukides   {'name': 'Mike Loukides'}   \n",
       "2  [{'name': 'Nat Torkington'}]  Nat Torkington  {'name': 'Nat Torkington'}   \n",
       "3  [{'name': 'Nat Torkington'}]  Nat Torkington  {'name': 'Nat Torkington'}   \n",
       "4  [{'name': 'Nat Torkington'}]  Nat Torkington  {'name': 'Nat Torkington'}   \n",
       "\n",
       "                                                tags  \\\n",
       "0  [{'term': 'Four Short Links', 'scheme': None, ...   \n",
       "1  [{'term': 'Software Engineering', 'scheme': No...   \n",
       "2  [{'term': 'Four Short Links', 'scheme': None, ...   \n",
       "3  [{'term': 'Four Short Links', 'scheme': None, ...   \n",
       "4  [{'term': 'Four Short Links', 'scheme': None, ...   \n",
       "\n",
       "                                       id  guidislink  \\\n",
       "0  https://www.oreilly.com/radar/?p=13409       False   \n",
       "1  https://www.oreilly.com/radar/?p=13406       False   \n",
       "2  https://www.oreilly.com/radar/?p=13404       False   \n",
       "3  https://www.oreilly.com/radar/?p=13399       False   \n",
       "4  https://www.oreilly.com/radar/?p=13396       False   \n",
       "\n",
       "                                             summary  \\\n",
       "0  Advanced System on a Chip Lecture Notes (2016)...   \n",
       "1  The programming world used to be split into fu...   \n",
       "2  Hypothesis as Liability &#8212; Would the ment...   \n",
       "3  Dealing with Security Holes in Chips &#8212; s...   \n",
       "4  The AI Who Mistook a Bald Head for a Football ...   \n",
       "\n",
       "                                      summary_detail  \\\n",
       "0  {'type': 'text/html', 'language': None, 'base'...   \n",
       "1  {'type': 'text/html', 'language': None, 'base'...   \n",
       "2  {'type': 'text/html', 'language': None, 'base'...   \n",
       "3  {'type': 'text/html', 'language': None, 'base'...   \n",
       "4  {'type': 'text/html', 'language': None, 'base'...   \n",
       "\n",
       "                                             content  \\\n",
       "0  [{'type': 'text/html', 'language': None, 'base...   \n",
       "1  [{'type': 'text/html', 'language': None, 'base...   \n",
       "2  [{'type': 'text/html', 'language': None, 'base...   \n",
       "3  [{'type': 'text/html', 'language': None, 'base...   \n",
       "4  [{'type': 'text/html', 'language': None, 'base...   \n",
       "\n",
       "                                      wfw_commentrss slash_comments  \\\n",
       "0  https://www.oreilly.com/radar/four-short-links...              0   \n",
       "1  https://www.oreilly.com/radar/multi-paradigm-l...              0   \n",
       "2  https://www.oreilly.com/radar/four-short-links...              0   \n",
       "3  https://www.oreilly.com/radar/four-short-links...              0   \n",
       "4  https://www.oreilly.com/radar/four-short-links...              0   \n",
       "\n",
       "                                 feedburner_origlink  \n",
       "0  https://www.oreilly.com/radar/four-short-links...  \n",
       "1  https://www.oreilly.com/radar/multi-paradigm-l...  \n",
       "2  https://www.oreilly.com/radar/four-short-links...  \n",
       "3  https://www.oreilly.com/radar/four-short-links...  \n",
       "4  https://www.oreilly.com/radar/four-short-links...  "
      ]
     },
     "execution_count": 13,
     "metadata": {},
     "output_type": "execute_result"
    }
   ],
   "source": [
    "entry_df = pd.DataFrame(rss.entries)\n",
    "entry_df.head()"
   ]
  },
  {
   "cell_type": "markdown",
   "metadata": {},
   "source": [
    "### 10. Count the number of entries per author and sort them in descending order."
   ]
  },
  {
   "cell_type": "code",
   "execution_count": 14,
   "metadata": {},
   "outputs": [
    {
     "data": {
      "text/html": [
       "<div>\n",
       "<style scoped>\n",
       "    .dataframe tbody tr th:only-of-type {\n",
       "        vertical-align: middle;\n",
       "    }\n",
       "\n",
       "    .dataframe tbody tr th {\n",
       "        vertical-align: top;\n",
       "    }\n",
       "\n",
       "    .dataframe thead th {\n",
       "        text-align: right;\n",
       "    }\n",
       "</style>\n",
       "<table border=\"1\" class=\"dataframe\">\n",
       "  <thead>\n",
       "    <tr style=\"text-align: right;\">\n",
       "      <th></th>\n",
       "      <th>author</th>\n",
       "      <th>entries</th>\n",
       "    </tr>\n",
       "  </thead>\n",
       "  <tbody>\n",
       "    <tr>\n",
       "      <th>7</th>\n",
       "      <td>Nat Torkington</td>\n",
       "      <td>41</td>\n",
       "    </tr>\n",
       "    <tr>\n",
       "      <th>5</th>\n",
       "      <td>Mike Loukides</td>\n",
       "      <td>10</td>\n",
       "    </tr>\n",
       "    <tr>\n",
       "      <th>0</th>\n",
       "      <td></td>\n",
       "      <td>1</td>\n",
       "    </tr>\n",
       "    <tr>\n",
       "      <th>1</th>\n",
       "      <td>Alex Castrounis</td>\n",
       "      <td>1</td>\n",
       "    </tr>\n",
       "    <tr>\n",
       "      <th>2</th>\n",
       "      <td>Justin Norman and Mike Loukides</td>\n",
       "      <td>1</td>\n",
       "    </tr>\n",
       "    <tr>\n",
       "      <th>3</th>\n",
       "      <td>Justin Norman, Peter Skomoroch and Mike Loukides</td>\n",
       "      <td>1</td>\n",
       "    </tr>\n",
       "    <tr>\n",
       "      <th>4</th>\n",
       "      <td>Matthew Rocklin and Hugo Bowne-Anderson</td>\n",
       "      <td>1</td>\n",
       "    </tr>\n",
       "    <tr>\n",
       "      <th>6</th>\n",
       "      <td>Mike Loukides and Steve Swoyer</td>\n",
       "      <td>1</td>\n",
       "    </tr>\n",
       "    <tr>\n",
       "      <th>8</th>\n",
       "      <td>Q Ethan McCallum and Mike Loukides</td>\n",
       "      <td>1</td>\n",
       "    </tr>\n",
       "    <tr>\n",
       "      <th>9</th>\n",
       "      <td>Q Ethan McCallum, Chris Butler and Shane Glynn</td>\n",
       "      <td>1</td>\n",
       "    </tr>\n",
       "    <tr>\n",
       "      <th>10</th>\n",
       "      <td>Sarah Gold</td>\n",
       "      <td>1</td>\n",
       "    </tr>\n",
       "  </tbody>\n",
       "</table>\n",
       "</div>"
      ],
      "text/plain": [
       "                                              author  entries\n",
       "7                                     Nat Torkington       41\n",
       "5                                      Mike Loukides       10\n",
       "0                                                           1\n",
       "1                                    Alex Castrounis        1\n",
       "2                    Justin Norman and Mike Loukides        1\n",
       "3   Justin Norman, Peter Skomoroch and Mike Loukides        1\n",
       "4            Matthew Rocklin and Hugo Bowne-Anderson        1\n",
       "6                     Mike Loukides and Steve Swoyer        1\n",
       "8                 Q Ethan McCallum and Mike Loukides        1\n",
       "9     Q Ethan McCallum, Chris Butler and Shane Glynn        1\n",
       "10                                        Sarah Gold        1"
      ]
     },
     "execution_count": 14,
     "metadata": {},
     "output_type": "execute_result"
    }
   ],
   "source": [
    "authors = entry_df.groupby('author', as_index=False).agg({'title':'count'})\n",
    "authors.columns = ['author', 'entries']\n",
    "authors.sort_values('entries', ascending=False)"
   ]
  },
  {
   "cell_type": "markdown",
   "metadata": {},
   "source": [
    "### 11. Add a new column to the data frame that contains the length (number of characters) of each entry title. Return a data frame that contains the title, author, and title length of each entry in descending order (longest title length at the top)."
   ]
  },
  {
   "cell_type": "code",
   "execution_count": 20,
   "metadata": {},
   "outputs": [
    {
     "data": {
      "text/html": [
       "<div>\n",
       "<style scoped>\n",
       "    .dataframe tbody tr th:only-of-type {\n",
       "        vertical-align: middle;\n",
       "    }\n",
       "\n",
       "    .dataframe tbody tr th {\n",
       "        vertical-align: top;\n",
       "    }\n",
       "\n",
       "    .dataframe thead th {\n",
       "        text-align: right;\n",
       "    }\n",
       "</style>\n",
       "<table border=\"1\" class=\"dataframe\">\n",
       "  <thead>\n",
       "    <tr style=\"text-align: right;\">\n",
       "      <th></th>\n",
       "      <th>title</th>\n",
       "      <th>author</th>\n",
       "      <th>title_length</th>\n",
       "    </tr>\n",
       "  </thead>\n",
       "  <tbody>\n",
       "    <tr>\n",
       "      <th>34</th>\n",
       "      <td>Why Best-of-Breed is a Better Choice than All-...</td>\n",
       "      <td>Matthew Rocklin and Hugo Bowne-Anderson</td>\n",
       "      <td>79</td>\n",
       "    </tr>\n",
       "    <tr>\n",
       "      <th>12</th>\n",
       "      <td>AI Product Management After Deployment</td>\n",
       "      <td>Justin Norman and Mike Loukides</td>\n",
       "      <td>38</td>\n",
       "    </tr>\n",
       "    <tr>\n",
       "      <th>28</th>\n",
       "      <td>Radar trends to watch: September 2020</td>\n",
       "      <td>Mike Loukides</td>\n",
       "      <td>37</td>\n",
       "    </tr>\n",
       "    <tr>\n",
       "      <th>36</th>\n",
       "      <td>The Least Liked Programming Languages</td>\n",
       "      <td>Mike Loukides</td>\n",
       "      <td>37</td>\n",
       "    </tr>\n",
       "    <tr>\n",
       "      <th>5</th>\n",
       "      <td>Radar trends to watch: November 2020</td>\n",
       "      <td>Mike Loukides</td>\n",
       "      <td>36</td>\n",
       "    </tr>\n",
       "  </tbody>\n",
       "</table>\n",
       "</div>"
      ],
      "text/plain": [
       "                                                title  \\\n",
       "34  Why Best-of-Breed is a Better Choice than All-...   \n",
       "12             AI Product Management After Deployment   \n",
       "28              Radar trends to watch: September 2020   \n",
       "36              The Least Liked Programming Languages   \n",
       "5                Radar trends to watch: November 2020   \n",
       "\n",
       "                                     author  title_length  \n",
       "34  Matthew Rocklin and Hugo Bowne-Anderson            79  \n",
       "12          Justin Norman and Mike Loukides            38  \n",
       "28                            Mike Loukides            37  \n",
       "36                            Mike Loukides            37  \n",
       "5                             Mike Loukides            36  "
      ]
     },
     "execution_count": 20,
     "metadata": {},
     "output_type": "execute_result"
    }
   ],
   "source": [
    "entry_df['title_length'] = entry_df['title'].apply(len)\n",
    "entry_df\n",
    "entry_df[['title','author','title_length']].sort_values('title_length', ascending=False).head()"
   ]
  },
  {
   "cell_type": "markdown",
   "metadata": {},
   "source": [
    "### 12. Create a list of entry titles whose summary includes the phrase \"machine learning.\""
   ]
  },
  {
   "cell_type": "code",
   "execution_count": 22,
   "metadata": {},
   "outputs": [
    {
     "data": {
      "text/plain": [
       "[]"
      ]
     },
     "execution_count": 22,
     "metadata": {},
     "output_type": "execute_result"
    }
   ],
   "source": [
    "ml_list =[i for i,title in enumerate(entry_df['summary']) if 'machine learning' in title]\n",
    "ml_list = [entry_df['title'][i] for i in ml_list]\n",
    "ml_list"
   ]
  },
  {
   "cell_type": "code",
   "execution_count": 24,
   "metadata": {},
   "outputs": [
    {
     "data": {
      "text/plain": [
       "['Four short links: 6 Nov 2020',\n",
       " 'Four short links: 18 Sep 2020',\n",
       " 'Four short links: 14 August 2020',\n",
       " 'Four short links: 13 July 2020']"
      ]
     },
     "execution_count": 24,
     "metadata": {},
     "output_type": "execute_result"
    }
   ],
   "source": [
    "#Probamos con otra palabra para ver si funciona\n",
    "ml_list =[entry_df['title'][i] for i,title in enumerate(entry_df['summary']) if 'security' in title]\n",
    "#ml_list = [entry_df['title'][i] for i in ml_list]\n",
    "ml_list"
   ]
  }
 ],
 "metadata": {
  "kernelspec": {
   "display_name": "Python 3",
   "language": "python",
   "name": "python3"
  },
  "language_info": {
   "codemirror_mode": {
    "name": "ipython",
    "version": 3
   },
   "file_extension": ".py",
   "mimetype": "text/x-python",
   "name": "python",
   "nbconvert_exporter": "python",
   "pygments_lexer": "ipython3",
   "version": "3.8.3"
  }
 },
 "nbformat": 4,
 "nbformat_minor": 2
}
